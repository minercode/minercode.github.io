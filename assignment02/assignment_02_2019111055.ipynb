{
 "cells": [
  {
   "cell_type": "markdown",
   "metadata": {},
   "source": [
    "# Pattern Recognition\n",
    "## Assignment 2\n",
    "Name: Wangduk Seo\n",
    "Student ID: 2019111055\n",
    "\n"
   ]
  },
  {
   "cell_type": "markdown",
   "metadata": {},
   "source": [
    "## Heat Equation"
   ]
  },
  {
   "cell_type": "code",
   "execution_count": 66,
   "metadata": {},
   "outputs": [],
   "source": [
    "def expand_img(src_mat):\n",
    "    img_mat = np.zeros((src_mat.shape[0] + 2, src_mat.shape[1] + 2), dtype=np.uint8)\n",
    "    img_mat[1:-1, 1:-1] = src_mat\n",
    "    img_mat[1:-1, 0] = src_mat[0:, 0]\n",
    "    img_mat[1:-1, img_mat.shape[1] - 1] = src_mat[0:, src_mat.shape[1] - 1]\n",
    "    img_mat[0, 1:-1] = src_mat[0, 0:]\n",
    "    img_mat[img_mat.shape[0] - 1, 1:-1] = src_mat[src_mat.shape[0] -1, 0:]\n",
    "    return img_mat"
   ]
  },
  {
   "cell_type": "code",
   "execution_count": 67,
   "metadata": {},
   "outputs": [],
   "source": [
    "def heatequation(U0, MAXITER, DELTA_T, ALPHA):\n",
    "    delta_t = DELTA_T\n",
    "    alpha = ALPHA\n",
    "    u_cur = U0\n",
    "    maxiter = MAXITER\n",
    "    check_points = len(maxiter)\n",
    "    total_maxiter = maxiter[check_points - 1] + 1\n",
    "\n",
    "    img_mat = np.zeros((check_points, u_cur.shape[0], u_cur.shape[1]), dtype=np.uint8)\n",
    "    img_mat[0] = u_cur\n",
    "    cur_check = 1\n",
    "\n",
    "    for t in range(1, total_maxiter):\n",
    "        exp_mat = expand_img(u_cur)\n",
    "        u_next = np.zeros(u_cur.shape)\n",
    "        for x in range(1, exp_mat.shape[0] - 1):\n",
    "            for y in range(1, exp_mat.shape[1] - 1):\n",
    "                u_next[x - 1, y - 1] = exp_mat[x + 1, y] + exp_mat[x - 1, y] + exp_mat[x, y + 1] + exp_mat[\n",
    "                    x - 1, y - 1] - 4 * exp_mat[x, y]\n",
    "\n",
    "        u_next = u_cur + delta_t * alpha * u_next\n",
    "        u_cur = u_next\n",
    "\n",
    "        if t in maxiter:\n",
    "            img_mat[cur_check] = u_cur\n",
    "            cur_check += 1\n",
    "    return img_mat\n"
   ]
  },
  {
   "cell_type": "code",
   "execution_count": 68,
   "metadata": {
    "scrolled": false
   },
   "outputs": [
    {
     "name": "stderr",
     "output_type": "stream",
     "text": [
      "C:\\Users\\CalPC_1\\Anaconda3\\lib\\site-packages\\ipykernel_launcher.py:19: RuntimeWarning: overflow encountered in ubyte_scalars\n"
     ]
    }
   ],
   "source": [
    "from tkinter.filedialog import askopenfilename\n",
    "from PIL import Image\n",
    "import numpy as np\n",
    "import tkinter\n",
    "import os\n",
    "# Window browser for user convinence\n",
    "#tk_window = tkinter.Tk()\n",
    "#cwd = os.getcwd()\n",
    "#src_img = Image.open(askopenfilename(title='Choose your training data'))\n",
    "#tk_window.destroy()\n",
    "\n",
    "src_img = Image.open('C:/Users/CalPC_1/Pictures/lena_gray.gif').convert('L')\n",
    "src_mat = np.array(src_img, 'uint8')\n",
    "\n",
    "max_iter = [0, 1, 2, 4, 8, 16, 32, 64, 128]\n",
    "img_mat = heatequation(src_mat, max_iter, 0.25, 0.25)\n",
    "\n",
    "for i in range(img_mat.shape[0]):\n",
    "    im = Image.fromarray(np.uint8(img_mat[i]))\n",
    "    im.save(str(max_iter[i])+ 'th iterations.jpg')\n",
    "    "
   ]
  },
  {
   "cell_type": "markdown",
   "metadata": {},
   "source": [
    "## Iteration 0 (Original Image)\n",
    "\n",
    "![Iteration 0](C:\\\\Users\\\\CalPC_1\\\\0th iterations.jpg)\n",
    "<img src=\"C:\\\\Users\\\\CalPC_1\\\\0th iterations.jpg\">"
   ]
  },
  {
   "cell_type": "code",
   "execution_count": null,
   "metadata": {},
   "outputs": [],
   "source": []
  }
 ],
 "metadata": {
  "kernelspec": {
   "display_name": "Python 3",
   "language": "python",
   "name": "python3"
  },
  "language_info": {
   "codemirror_mode": {
    "name": "ipython",
    "version": 3
   },
   "file_extension": ".py",
   "mimetype": "text/x-python",
   "name": "python",
   "nbconvert_exporter": "python",
   "pygments_lexer": "ipython3",
   "version": "3.6.7"
  }
 },
 "nbformat": 4,
 "nbformat_minor": 2
}
